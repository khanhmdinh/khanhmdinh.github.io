{
 "cells": [
  {
   "cell_type": "markdown",
   "id": "5155fc04-7ad2-4287-b725-742d721518c2",
   "metadata": {
    "microsoft": {
     "language": "python",
     "language_group": "synapse_pyspark"
    },
    "nteract": {
     "transient": {
      "deleting": false
     }
    }
   },
   "source": [
    "## 01. Raw to Landing"
   ]
  },
  {
   "cell_type": "markdown",
   "id": "0b90124b-362c-48b9-bf70-6be857d2806b",
   "metadata": {
    "microsoft": {
     "language": "python",
     "language_group": "synapse_pyspark"
    },
    "nteract": {
     "transient": {
      "deleting": false
     }
    }
   },
   "source": [
    "## Raw to Landing"
   ]
  },
  {
   "cell_type": "code",
   "execution_count": 43,
   "id": "e1c1fc5a-1e79-4b5d-994e-9b08ce08b5b8",
   "metadata": {
    "microsoft": {
     "language": "python",
     "language_group": "synapse_pyspark"
    }
   },
   "outputs": [
    {
     "data": {
      "application/vnd.livy.statement-meta+json": {
       "execution_finish_time": "2025-09-17T05:58:01.1208487Z",
       "execution_start_time": "2025-09-17T05:57:57.4498672Z",
       "livy_statement_state": "available",
       "normalized_state": "finished",
       "parent_msg_id": "f84fb46d-45ba-4712-8ade-36876ed062e3",
       "queued_time": "2025-09-17T05:57:57.4487169Z",
       "session_id": "1a3df32d-b3b9-44ed-bbc5-a14fc13c8ade",
       "session_start_time": null,
       "spark_pool": null,
       "state": "finished",
       "statement_id": 45,
       "statement_ids": [
        45
       ]
      },
      "text/plain": [
       "StatementMeta(, 1a3df32d-b3b9-44ed-bbc5-a14fc13c8ade, 45, Finished, Available, Finished)"
      ]
     },
     "metadata": {},
     "output_type": "display_data"
    },
    {
     "name": "stdout",
     "output_type": "stream",
     "text": [
      "Auth type: OAuth\n"
     ]
    },
    {
     "data": {
      "text/plain": [
       "[FileInfo(path=abfss://fabricproject@khanhmdinh.dfs.core.windows.net/raw/LMS_09-01-2023.csv, name=LMS_09-01-2023.csv, size=2073)]"
      ]
     },
     "metadata": {},
     "output_type": "display_data"
    }
   ],
   "source": [
    "print(\"Auth type:\", spark.conf.get(f\"fs.azure.account.auth.type.khanhmdinh.dfs.core.windows.net\"))\n",
    "display(mssparkutils.fs.ls(f\"abfss://fabricproject@khanhmdinh.dfs.core.windows.net/raw\"))"
   ]
  },
  {
   "cell_type": "code",
   "execution_count": 44,
   "id": "fcccce22-c5ee-466f-bc30-2f0e88fdcd13",
   "metadata": {
    "microsoft": {
     "language": "python",
     "language_group": "synapse_pyspark"
    }
   },
   "outputs": [
    {
     "data": {
      "application/vnd.livy.statement-meta+json": {
       "execution_finish_time": "2025-09-17T05:58:04.4197184Z",
       "execution_start_time": "2025-09-17T05:58:04.137318Z",
       "livy_statement_state": "available",
       "normalized_state": "finished",
       "parent_msg_id": "db12436e-b659-4f8d-9a36-4856695b8934",
       "queued_time": "2025-09-17T05:58:04.1361848Z",
       "session_id": "1a3df32d-b3b9-44ed-bbc5-a14fc13c8ade",
       "session_start_time": null,
       "spark_pool": null,
       "state": "finished",
       "statement_id": 46,
       "statement_ids": [
        46
       ]
      },
      "text/plain": [
       "StatementMeta(, 1a3df32d-b3b9-44ed-bbc5-a14fc13c8ade, 46, Finished, Available, Finished)"
      ]
     },
     "metadata": {},
     "output_type": "display_data"
    }
   ],
   "source": [
    "account_name = 'khanhmdinh'\n",
    "container_name = 'fabricproject'\n",
    "relative_path = 'raw/'"
   ]
  },
  {
   "cell_type": "code",
   "execution_count": 45,
   "id": "c1627694-bc8a-4e24-83e7-1167ac97d7ca",
   "metadata": {
    "microsoft": {
     "language": "python",
     "language_group": "synapse_pyspark"
    }
   },
   "outputs": [
    {
     "data": {
      "application/vnd.livy.statement-meta+json": {
       "execution_finish_time": "2025-09-17T05:58:20.6420306Z",
       "execution_start_time": "2025-09-17T05:58:09.0167233Z",
       "livy_statement_state": "available",
       "normalized_state": "finished",
       "parent_msg_id": "778e0e2e-0b86-487e-9637-bd9a1edb10d9",
       "queued_time": "2025-09-17T05:58:09.0156637Z",
       "session_id": "1a3df32d-b3b9-44ed-bbc5-a14fc13c8ade",
       "session_start_time": null,
       "spark_pool": null,
       "state": "finished",
       "statement_id": 47,
       "statement_ids": [
        47
       ]
      },
      "text/plain": [
       "StatementMeta(, 1a3df32d-b3b9-44ed-bbc5-a14fc13c8ade, 47, Finished, Available, Finished)"
      ]
     },
     "metadata": {},
     "output_type": "display_data"
    }
   ],
   "source": [
    "adls_path = 'abfss://%s@%s.dfs.core.windows.net/%s' % (container_name, account_name, relative_path)\n",
    "df = spark.read.format('csv').option('header','true').load(adls_path)"
   ]
  },
  {
   "cell_type": "code",
   "execution_count": 46,
   "id": "cd7bc700-6a71-4e60-bc42-da167b191cf9",
   "metadata": {
    "advisor": {
     "adviceMetadata": "{\"artifactId\":\"02f0af14-5652-4c6d-a037-fba0a4e5d962\",\"activityId\":\"1a3df32d-b3b9-44ed-bbc5-a14fc13c8ade\",\"applicationId\":\"application_1758082559374_0001\",\"jobGroupId\":\"48\",\"advices\":{\"error\":1}}"
    },
    "collapsed": false,
    "microsoft": {
     "language": "python",
     "language_group": "synapse_pyspark"
    }
   },
   "outputs": [
    {
     "data": {
      "application/vnd.livy.statement-meta+json": {
       "execution_finish_time": "2025-09-17T05:59:22.4578989Z",
       "execution_start_time": "2025-09-17T05:58:23.4411854Z",
       "livy_statement_state": "available",
       "normalized_state": "finished",
       "parent_msg_id": "8ba85b8e-9426-4f93-9eae-9470c3601631",
       "queued_time": "2025-09-17T05:58:23.440113Z",
       "session_id": "1a3df32d-b3b9-44ed-bbc5-a14fc13c8ade",
       "session_start_time": null,
       "spark_pool": null,
       "state": "finished",
       "statement_id": 48,
       "statement_ids": [
        48
       ]
      },
      "text/plain": [
       "StatementMeta(, 1a3df32d-b3b9-44ed-bbc5-a14fc13c8ade, 48, Finished, Available, Finished)"
      ]
     },
     "metadata": {},
     "output_type": "display_data"
    },
    {
     "data": {
      "application/vnd.synapse.widget-view+json": {
       "widget_id": "741d79dc-734b-45c8-a3c6-530960230c61",
       "widget_type": "Synapse.DataFrame"
      },
      "text/plain": [
       "SynapseWidget(Synapse.DataFrame, 741d79dc-734b-45c8-a3c6-530960230c61)"
      ]
     },
     "metadata": {},
     "output_type": "display_data"
    }
   ],
   "source": [
    "display(df)"
   ]
  },
  {
   "cell_type": "markdown",
   "id": "3cb057e0-9cd4-4348-b329-bc6682a599fc",
   "metadata": {
    "microsoft": {
     "language": "python",
     "language_group": "synapse_pyspark"
    },
    "nteract": {
     "transient": {
      "deleting": false
     }
    }
   },
   "source": [
    "## Reading csv file of today"
   ]
  },
  {
   "cell_type": "code",
   "execution_count": 47,
   "id": "e348813c-9643-4666-baeb-8ef1742c2ca6",
   "metadata": {
    "microsoft": {
     "language": "python",
     "language_group": "synapse_pyspark"
    }
   },
   "outputs": [
    {
     "data": {
      "application/vnd.livy.statement-meta+json": {
       "execution_finish_time": "2025-09-17T05:59:22.7366096Z",
       "execution_start_time": "2025-09-17T05:59:22.4599835Z",
       "livy_statement_state": "available",
       "normalized_state": "finished",
       "parent_msg_id": "e1fa123a-b45b-4a9a-88c8-ea8b327f8966",
       "queued_time": "2025-09-17T05:59:16.9761726Z",
       "session_id": "1a3df32d-b3b9-44ed-bbc5-a14fc13c8ade",
       "session_start_time": null,
       "spark_pool": null,
       "state": "finished",
       "statement_id": 49,
       "statement_ids": [
        49
       ]
      },
      "text/plain": [
       "StatementMeta(, 1a3df32d-b3b9-44ed-bbc5-a14fc13c8ade, 49, Finished, Available, Finished)"
      ]
     },
     "metadata": {},
     "output_type": "display_data"
    }
   ],
   "source": [
    "today_file = 'LMS_09-01-2023.csv'\n",
    "processed_Date = '2025-09-17'"
   ]
  },
  {
   "cell_type": "code",
   "execution_count": 48,
   "id": "2248eb69-d99d-469c-9e27-a73950751d39",
   "metadata": {
    "microsoft": {
     "language": "python",
     "language_group": "synapse_pyspark"
    }
   },
   "outputs": [
    {
     "data": {
      "application/vnd.livy.statement-meta+json": {
       "execution_finish_time": "2025-09-17T05:59:28.9170482Z",
       "execution_start_time": "2025-09-17T05:59:28.6042262Z",
       "livy_statement_state": "available",
       "normalized_state": "finished",
       "parent_msg_id": "6e09c8ba-b4f9-435a-85d7-9dc5cfe118c3",
       "queued_time": "2025-09-17T05:59:28.6030477Z",
       "session_id": "1a3df32d-b3b9-44ed-bbc5-a14fc13c8ade",
       "session_start_time": null,
       "spark_pool": null,
       "state": "finished",
       "statement_id": 50,
       "statement_ids": [
        50
       ]
      },
      "text/plain": [
       "StatementMeta(, 1a3df32d-b3b9-44ed-bbc5-a14fc13c8ade, 50, Finished, Available, Finished)"
      ]
     },
     "metadata": {},
     "output_type": "display_data"
    },
    {
     "name": "stdout",
     "output_type": "stream",
     "text": [
      "abfss://fabricproject@khanhmdinh.dfs.core.windows.net/raw//LMS_09-01-2023.csv\n"
     ]
    }
   ],
   "source": [
    "latest_path = f\"{adls_path}/{today_file}\"\n",
    "print (latest_path)"
   ]
  },
  {
   "cell_type": "code",
   "execution_count": 50,
   "id": "95334851-782c-42a1-921d-eb33061f9b9c",
   "metadata": {
    "advisor": {
     "adviceMetadata": "{\"artifactId\":\"02f0af14-5652-4c6d-a037-fba0a4e5d962\",\"activityId\":\"1a3df32d-b3b9-44ed-bbc5-a14fc13c8ade\",\"applicationId\":\"application_1758082559374_0001\",\"jobGroupId\":\"52\",\"advices\":{\"error\":2}}"
    },
    "collapsed": false,
    "microsoft": {
     "language": "python",
     "language_group": "synapse_pyspark"
    }
   },
   "outputs": [
    {
     "data": {
      "application/vnd.livy.statement-meta+json": {
       "execution_finish_time": "2025-09-17T06:06:08.7733983Z",
       "execution_start_time": "2025-09-17T06:03:38.3759116Z",
       "livy_statement_state": "available",
       "normalized_state": "finished",
       "parent_msg_id": "946393d4-0f5f-4664-b782-d8f1555c25a5",
       "queued_time": "2025-09-17T06:03:38.3747101Z",
       "session_id": "1a3df32d-b3b9-44ed-bbc5-a14fc13c8ade",
       "session_start_time": null,
       "spark_pool": null,
       "state": "finished",
       "statement_id": 52,
       "statement_ids": [
        52
       ]
      },
      "text/plain": [
       "StatementMeta(, 1a3df32d-b3b9-44ed-bbc5-a14fc13c8ade, 52, Finished, Available, Finished)"
      ]
     },
     "metadata": {},
     "output_type": "display_data"
    },
    {
     "name": "stdout",
     "output_type": "stream",
     "text": [
      "The file has data.\n",
      "Data written to landing zone successfully !\n"
     ]
    }
   ],
   "source": [
    "from pyspark.sql.functions import lit\n",
    "latest_path = f\"{adls_path}/{today_file}\"\n",
    "df = spark.read.csv(path= latest_path, header=True, inferSchema= True)\n",
    "\n",
    "if df.count() >1:\n",
    "\tprint(\"The file has data.\")\n",
    "\n",
    "\tdf_new = df.withColumn(\"Processing_Date\", lit(processed_Date))\n",
    "\tdf_new.write.format('csv').option('header','true').partitionBy('Processing_Date').mode('append').save('abfss://fabricproject@khanhmdinh.dfs.core.windows.net/landing/')\n",
    "\tprint ('Data written to landing zone successfully !')\n",
    "else:\n",
    "\tprint('This file contains only header row and no data.')"
   ]
  }
 ],
 "metadata": {
  "dependencies": {
   "lakehouse": {
    "default_lakehouse": "2e0c8f27-9125-404a-b81b-65a4b1152c31",
    "default_lakehouse_name": "Lakehouse",
    "default_lakehouse_workspace_id": "66c74d9f-3e7d-4ac8-ac51-f68c5743a965",
    "known_lakehouses": [
     {
      "id": "2e0c8f27-9125-404a-b81b-65a4b1152c31"
     }
    ]
   }
  },
  "kernel_info": {
   "name": "synapse_pyspark"
  },
  "kernelspec": {
   "display_name": "Synapse PySpark",
   "language": "Python",
   "name": "synapse_pyspark"
  },
  "language_info": {
   "name": "python"
  },
  "microsoft": {
   "language": "python",
   "language_group": "synapse_pyspark",
   "ms_spell_check": {
    "ms_spell_check_language": "en"
   }
  },
  "nteract": {
   "version": "nteract-front-end@1.0.0"
  },
  "spark_compute": {
   "compute_id": "/trident/default",
   "session_options": {
    "conf": {
     "spark.synapse.nbs.session.timeout": "1200000"
    }
   }
  },
  "synapse_widget": {
   "state": {
    "741d79dc-734b-45c8-a3c6-530960230c61": {
     "persist_state": {
      "view": {
       "chartOptions": {
        "aggregationType": "sum",
        "binsNumber": 10,
        "categoryFieldKeys": [],
        "chartType": "bar",
        "isStacked": false,
        "seriesFieldKeys": [],
        "wordFrequency": "-1"
       },
       "tableOptions": {},
       "type": "details",
       "viewOptionsGroup": [
        {
         "tabItems": [
          {
           "key": "0",
           "name": "Table",
           "options": {},
           "type": "table"
          }
         ]
        }
       ]
      }
     },
     "sync_state": {
      "isSummary": false,
      "language": "scala",
      "table": {
       "rows": [
        {
         "0": "1001",
         "1": "John Doe",
         "2": "16",
         "3": "M",
         "4": "9",
         "5": "C071",
         "6": "Introduction to Music",
         "7": "9/1/2023",
         "8": "12/15/2023",
         "9": "Completed",
         "10": "A-",
         "11": "95",
         "12": "45",
         "13": "4",
         "14": "5",
         "15": "15",
         "16": "10",
         "17": "88",
         "18": "[85, 90, 88, 92]",
         "19": "88.75",
         "20": "85",
         "21": "5",
         "22": "90",
         "23": "4.5",
         "24": "High",
         "25": "Urban",
         "26": "Yes",
         "27": "None",
         "28": "Visual",
         "29": "Advanced",
         "30": "80%",
         "31": "105",
         "32": "55.5",
         "33": "88.1",
         "index": 0,
         "key": 0
        },
        {
         "0": "1002",
         "1": "Jane Smith",
         "2": "17",
         "3": "F",
         "4": "10",
         "5": "C072",
         "6": "Biology",
         "7": "9/1/2023",
         "8": "12/15/2023",
         "9": "Completed",
         "10": "B+",
         "11": "90",
         "12": "50",
         "13": "4",
         "14": "6",
         "15": "12",
         "16": "12",
         "17": "85",
         "18": "[78, 82, 80, 85]",
         "19": "81.25",
         "20": "80",
         "21": "0",
         "22": "85",
         "23": "4",
         "24": "Medium",
         "25": "Suburban",
         "26": "Yes",
         "27": "None",
         "28": "Auditory",
         "29": "Intermediate",
         "30": "75%",
         "31": "105",
         "32": "60.5",
         "33": "85.4",
         "index": 1,
         "key": 1
        },
        {
         "0": "1003",
         "1": "Sam Lee",
         "2": "15",
         "3": "M",
         "4": "11",
         "5": "C073",
         "6": "Algebra II",
         "7": "9/1/2023",
         "8": "12/15/2023",
         "9": "In Progress",
         "10": "B",
         "11": "85",
         "12": "35",
         "13": "4",
         "14": "4",
         "15": "10",
         "16": "8",
         "17": "82",
         "18": "[88, 84, 79, 85]",
         "19": "84",
         "20": "78",
         "21": "2",
         "22": "80",
         "23": "3.8",
         "24": "Low",
         "25": "Rural",
         "26": "No",
         "27": "Dyslexia",
         "28": "Kinesthetic",
         "29": "Beginner",
         "30": "60%",
         "31": "105",
         "32": "42.6",
         "33": "81.8",
         "index": 2,
         "key": 2
        },
        {
         "0": "1004",
         "1": "Alex Brown",
         "2": "18",
         "3": "F",
         "4": "9",
         "5": "C074",
         "6": "World Geography",
         "7": "9/1/2023",
         "8": "12/15/2023",
         "9": "Completed",
         "10": "A",
         "11": "98",
         "12": "60",
         "13": "4",
         "14": "7",
         "15": "20",
         "16": "15",
         "17": "92",
         "18": "[92, 95, 90, 94]",
         "19": "92.75",
         "20": "90",
         "21": "3",
         "22": "95",
         "23": "4.8",
         "24": "High",
         "25": "Urban",
         "26": "Yes",
         "27": "ADHD",
         "28": "Visual",
         "29": "Advanced",
         "30": "85%",
         "31": "105",
         "32": "67.5",
         "33": "94.1",
         "index": 3,
         "key": 3
        },
        {
         "0": "1005",
         "1": "Mike Davis",
         "2": "16",
         "3": "M",
         "4": "10",
         "5": "C075",
         "6": "Physical Education",
         "7": "9/1/2023",
         "8": "12/15/2023",
         "9": "Completed",
         "10": "B-",
         "11": "88",
         "12": "40",
         "13": "4",
         "14": "5",
         "15": "11",
         "16": "10",
         "17": "78",
         "18": "[70, 75, 78, 80]",
         "19": "75.75",
         "20": "75",
         "21": "1",
         "22": "80",
         "23": "3.5",
         "24": "Medium",
         "25": "Suburban",
         "26": "Yes",
         "27": "None",
         "28": "Auditory",
         "29": "Intermediate",
         "30": "70%",
         "31": "105",
         "32": "46.6",
         "33": "79.8",
         "index": 4,
         "key": 4
        },
        {
         "0": "1006",
         "1": "Emily Clark",
         "2": "17",
         "3": "F",
         "4": "9",
         "5": "C076",
         "6": "Intro to Programming",
         "7": "9/1/2023",
         "8": "12/15/2023",
         "9": "In Progress",
         "10": "B+",
         "11": "92",
         "12": "48",
         "13": "4",
         "14": "6",
         "15": "13",
         "16": "14",
         "17": "86",
         "18": "[84, 86, 88, 86]",
         "19": "86",
         "20": "82",
         "21": "2",
         "22": "85",
         "23": "4.1",
         "24": "High",
         "25": "Urban",
         "26": "Yes",
         "27": "None",
         "28": "Visual",
         "29": "Intermediate",
         "30": "78%",
         "31": "105",
         "32": "54.1",
         "33": "86.4",
         "index": 5,
         "key": 5
        },
        {
         "0": "1007",
         "1": "Bob Johnson",
         "2": "15",
         "3": "M",
         "4": "11",
         "5": "C077",
         "6": "Chemistry",
         "7": "9/1/2023",
         "8": "12/15/2023",
         "9": "Completed",
         "10": "A-",
         "11": "95",
         "12": "46",
         "13": "4",
         "14": "5",
         "15": "14",
         "16": "10",
         "17": "88",
         "18": "[90, 88, 85, 94]",
         "19": "89.25",
         "20": "85",
         "21": "3",
         "22": "90",
         "23": "4.4",
         "24": "Low",
         "25": "Rural",
         "26": "No",
         "27": "None",
         "28": "Kinesthetic",
         "29": "Beginner",
         "30": "75%",
         "31": "105",
         "32": "55.5",
         "33": "88.1",
         "index": 6,
         "key": 6
        },
        {
         "0": "1008",
         "1": "Sara Wilson",
         "2": "18",
         "3": "F",
         "4": "10",
         "5": "C078",
         "6": "Spanish II",
         "7": "9/1/2023",
         "8": "11/15/2023",
         "9": "In Progress",
         "10": "A",
         "11": "96",
         "12": "55",
         "13": "4",
         "14": "7",
         "15": "18",
         "16": "15",
         "17": "93",
         "18": "[92, 94, 95, 94]",
         "19": "93.75",
         "20": "91",
         "21": "4",
         "22": "95",
         "23": "4.7",
         "24": "High",
         "25": "Urban",
         "26": "Yes",
         "27": "None",
         "28": "Visual",
         "29": "Advanced",
         "30": "88%",
         "31": "105",
         "32": "67.5",
         "33": "94.1",
         "index": 7,
         "key": 7
        }
       ],
       "schema": [
        {
         "key": "0",
         "name": "Student_ID",
         "type": "string"
        },
        {
         "key": "1",
         "name": "Name",
         "type": "string"
        },
        {
         "key": "2",
         "name": "Age",
         "type": "string"
        },
        {
         "key": "3",
         "name": "Gender",
         "type": "string"
        },
        {
         "key": "4",
         "name": "Grade_Level",
         "type": "string"
        },
        {
         "key": "5",
         "name": "Course_ID",
         "type": "string"
        },
        {
         "key": "6",
         "name": "Course_Name",
         "type": "string"
        },
        {
         "key": "7",
         "name": "Enrollment_Date",
         "type": "string"
        },
        {
         "key": "8",
         "name": "Completion_Date",
         "type": "string"
        },
        {
         "key": "9",
         "name": "Status",
         "type": "string"
        },
        {
         "key": "10",
         "name": "Final_Grade",
         "type": "string"
        },
        {
         "key": "11",
         "name": "Attendance_Rate",
         "type": "string"
        },
        {
         "key": "12",
         "name": "Time_Spent_on_Course_hrs",
         "type": "string"
        },
        {
         "key": "13",
         "name": "Assignments_Completed",
         "type": "string"
        },
        {
         "key": "14",
         "name": "Quizzes_Completed",
         "type": "string"
        },
        {
         "key": "15",
         "name": "Forum_Posts",
         "type": "string"
        },
        {
         "key": "16",
         "name": "Messages_Sent",
         "type": "string"
        },
        {
         "key": "17",
         "name": "Quiz_Average_Score",
         "type": "string"
        },
        {
         "key": "18",
         "name": "Assignment_Scores",
         "type": "string"
        },
        {
         "key": "19",
         "name": "Assignment_Average_Score",
         "type": "string"
        },
        {
         "key": "20",
         "name": "Project_Score",
         "type": "string"
        },
        {
         "key": "21",
         "name": "Extra_Credit",
         "type": "string"
        },
        {
         "key": "22",
         "name": "Overall_Performance",
         "type": "string"
        },
        {
         "key": "23",
         "name": "Feedback_Score",
         "type": "string"
        },
        {
         "key": "24",
         "name": "Parent_Involvement",
         "type": "string"
        },
        {
         "key": "25",
         "name": "Demographic_Group",
         "type": "string"
        },
        {
         "key": "26",
         "name": "Internet_Access",
         "type": "string"
        },
        {
         "key": "27",
         "name": "Learning_Disabilities",
         "type": "string"
        },
        {
         "key": "28",
         "name": "Preferred_Learning_Style",
         "type": "string"
        },
        {
         "key": "29",
         "name": "Language_Proficiency",
         "type": "string"
        },
        {
         "key": "30",
         "name": "Participation_Rate",
         "type": "string"
        },
        {
         "key": "31",
         "name": "Completion_Time_Days",
         "type": "string"
        },
        {
         "key": "32",
         "name": "Performance_Score",
         "type": "string"
        },
        {
         "key": "33",
         "name": "Course_Completion_Rate",
         "type": "string"
        }
       ],
       "truncated": false
      },
      "wranglerEntryContext": {
       "candidateVariableNames": [
        "df"
       ],
       "dataframeType": "pyspark"
      }
     },
     "type": "Synapse.DataFrame"
    }
   },
   "version": "0.1"
  }
 },
 "nbformat": 4,
 "nbformat_minor": 5
}
